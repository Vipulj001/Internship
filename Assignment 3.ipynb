{
 "cells": [
  {
   "cell_type": "code",
   "execution_count": 118,
   "id": "94d91028",
   "metadata": {},
   "outputs": [
    {
     "name": "stdout",
     "output_type": "stream",
     "text": [
      "Requirement already satisfied: selenium in c:\\users\\jaypr\\anaconda3\\lib\\site-packages (4.1.3)\n",
      "Requirement already satisfied: trio~=0.17 in c:\\users\\jaypr\\anaconda3\\lib\\site-packages (from selenium) (0.20.0)\n",
      "Requirement already satisfied: urllib3[secure,socks]~=1.26 in c:\\users\\jaypr\\anaconda3\\lib\\site-packages (from selenium) (1.26.7)\n",
      "Requirement already satisfied: trio-websocket~=0.9 in c:\\users\\jaypr\\anaconda3\\lib\\site-packages (from selenium) (0.9.2)\n",
      "Requirement already satisfied: sortedcontainers in c:\\users\\jaypr\\anaconda3\\lib\\site-packages (from trio~=0.17->selenium) (2.4.0)\n",
      "Requirement already satisfied: attrs>=19.2.0 in c:\\users\\jaypr\\anaconda3\\lib\\site-packages (from trio~=0.17->selenium) (21.2.0)\n",
      "Requirement already satisfied: idna in c:\\users\\jaypr\\anaconda3\\lib\\site-packages (from trio~=0.17->selenium) (3.2)\n",
      "Requirement already satisfied: sniffio in c:\\users\\jaypr\\anaconda3\\lib\\site-packages (from trio~=0.17->selenium) (1.2.0)\n",
      "Requirement already satisfied: async-generator>=1.9 in c:\\users\\jaypr\\anaconda3\\lib\\site-packages (from trio~=0.17->selenium) (1.10)\n",
      "Requirement already satisfied: cffi>=1.14 in c:\\users\\jaypr\\anaconda3\\lib\\site-packages (from trio~=0.17->selenium) (1.14.6)\n",
      "Requirement already satisfied: outcome in c:\\users\\jaypr\\anaconda3\\lib\\site-packages (from trio~=0.17->selenium) (1.1.0)\n",
      "Requirement already satisfied: pycparser in c:\\users\\jaypr\\anaconda3\\lib\\site-packages (from cffi>=1.14->trio~=0.17->selenium) (2.20)\n",
      "Requirement already satisfied: wsproto>=0.14 in c:\\users\\jaypr\\anaconda3\\lib\\site-packages (from trio-websocket~=0.9->selenium) (1.1.0)\n",
      "Requirement already satisfied: pyOpenSSL>=0.14 in c:\\users\\jaypr\\anaconda3\\lib\\site-packages (from urllib3[secure,socks]~=1.26->selenium) (21.0.0)\n",
      "Requirement already satisfied: cryptography>=1.3.4 in c:\\users\\jaypr\\anaconda3\\lib\\site-packages (from urllib3[secure,socks]~=1.26->selenium) (3.4.8)\n",
      "Requirement already satisfied: certifi in c:\\users\\jaypr\\anaconda3\\lib\\site-packages (from urllib3[secure,socks]~=1.26->selenium) (2021.10.8)\n",
      "Requirement already satisfied: PySocks!=1.5.7,<2.0,>=1.5.6 in c:\\users\\jaypr\\anaconda3\\lib\\site-packages (from urllib3[secure,socks]~=1.26->selenium) (1.7.1)\n",
      "Requirement already satisfied: six>=1.5.2 in c:\\users\\jaypr\\anaconda3\\lib\\site-packages (from pyOpenSSL>=0.14->urllib3[secure,socks]~=1.26->selenium) (1.16.0)\n",
      "Requirement already satisfied: h11<1,>=0.9.0 in c:\\users\\jaypr\\anaconda3\\lib\\site-packages (from wsproto>=0.14->trio-websocket~=0.9->selenium) (0.13.0)\n"
     ]
    }
   ],
   "source": [
    "! pip install selenium"
   ]
  },
  {
   "cell_type": "markdown",
   "id": "9dce5069",
   "metadata": {},
   "source": [
    "# Q 1 and 2"
   ]
  },
  {
   "cell_type": "code",
   "execution_count": 153,
   "id": "930cd335",
   "metadata": {},
   "outputs": [],
   "source": [
    "import selenium\n",
    "import pandas as pd\n",
    "from selenium import webdriver\n",
    "import warnings\n",
    "warnings.filterwarnings(\"ignore\")\n",
    "import time\n",
    "from selenium.webdriver.common.keys import Keys"
   ]
  },
  {
   "cell_type": "code",
   "execution_count": 154,
   "id": "58ad3a4b",
   "metadata": {},
   "outputs": [],
   "source": [
    "driver=webdriver.Chrome(r\"C:\\Users\\JayPr\\Downloads\\chromedriver_win32 (2)\\chromedriver.exe\")"
   ]
  },
  {
   "cell_type": "code",
   "execution_count": 155,
   "id": "5ee199cc",
   "metadata": {},
   "outputs": [],
   "source": [
    "driver=webdriver.Chrome(\"chromedriver.exe\")\n",
    "time.sleep(2)"
   ]
  },
  {
   "cell_type": "code",
   "execution_count": 91,
   "id": "151a4b83",
   "metadata": {},
   "outputs": [],
   "source": [
    "driver.get(\"https://www.amazon.in/\")"
   ]
  },
  {
   "cell_type": "code",
   "execution_count": 92,
   "id": "4179d87b",
   "metadata": {},
   "outputs": [],
   "source": [
    "search_box = driver.find_element_by_id('twotabsearchtextbox')"
   ]
  },
  {
   "cell_type": "code",
   "execution_count": 93,
   "id": "b63d367c",
   "metadata": {},
   "outputs": [],
   "source": [
    "search_box.send_keys(\"Guitar\")"
   ]
  },
  {
   "cell_type": "code",
   "execution_count": 94,
   "id": "ccbf1bb1",
   "metadata": {},
   "outputs": [],
   "source": [
    "search=driver.find_element_by_id(\"nav-search-submit-button\")"
   ]
  },
  {
   "cell_type": "code",
   "execution_count": 95,
   "id": "45a57aa3",
   "metadata": {},
   "outputs": [],
   "source": [
    "search.click()\n"
   ]
  },
  {
   "cell_type": "code",
   "execution_count": 74,
   "id": "473056e6",
   "metadata": {},
   "outputs": [],
   "source": [
    "u = []\n",
    "for i in driver. find_elements_by_xpath(\"//a[@class='a-link-normal a-text-normal']\"):\n",
    "    u.append(i.get_attribute(\"href\"))\n",
    "    len(u)"
   ]
  },
  {
   "cell_type": "code",
   "execution_count": 75,
   "id": "81f5d7ae",
   "metadata": {},
   "outputs": [],
   "source": [
    "brandname = [] \n",
    "productname = [] \n",
    "ratingtotal = [] \n",
    "price = []\n"
   ]
  },
  {
   "cell_type": "code",
   "execution_count": null,
   "id": "07c6612d",
   "metadata": {},
   "outputs": [],
   "source": [
    "for j in u:\n",
    "driver.get(j)\n",
    "try:\n",
    "brand = driver.find_element_by_xpath(\"//td[@class='a-spang']/span\")\n",
    "brandname.append(brand. text) \n",
    "except:\n",
    "brandname.append('-')\n",
    "try:\n",
    "product = driver.find_element by id(\"productTitle\")\n",
    "productname. append(product. text) \n",
    "except:\n",
    "productname.append('-') \n",
    "try:\n",
    "rate = driver.find_element_by_id(\"acrCustomer ReviewText\")\n",
    "ratingtotal.append(rate. text)\n",
    "except:\n",
    "ratingtotal.append('-')|\n",
    "try:\n",
    "total_price = driver.find_element_by_id(\"priceblock_dealprice\")\n",
    "price.append(total_price. text) \n",
    "except:\n",
    "price.append('-')\n",
    "len(brandname)\n",
    "len(productname)\n",
    "len(ratingtotal)\n",
    "len(price)\n"
   ]
  },
  {
   "cell_type": "code",
   "execution_count": 77,
   "id": "ba987f2b",
   "metadata": {},
   "outputs": [],
   "source": [
    "x=pd.DataFrame({})"
   ]
  },
  {
   "cell_type": "code",
   "execution_count": 78,
   "id": "c945ec1d",
   "metadata": {},
   "outputs": [],
   "source": [
    "x['Brand']=brandname"
   ]
  },
  {
   "cell_type": "code",
   "execution_count": 79,
   "id": "f146b5b4",
   "metadata": {},
   "outputs": [],
   "source": [
    "x['Product name']=productname"
   ]
  },
  {
   "cell_type": "code",
   "execution_count": 80,
   "id": "98bc958a",
   "metadata": {},
   "outputs": [],
   "source": [
    "x['Reviews']=ratingtotal"
   ]
  },
  {
   "cell_type": "code",
   "execution_count": 81,
   "id": "ddee5634",
   "metadata": {},
   "outputs": [],
   "source": [
    "x['Price']=price"
   ]
  },
  {
   "cell_type": "code",
   "execution_count": 82,
   "id": "9b49b5c6",
   "metadata": {},
   "outputs": [
    {
     "data": {
      "text/html": [
       "<div>\n",
       "<style scoped>\n",
       "    .dataframe tbody tr th:only-of-type {\n",
       "        vertical-align: middle;\n",
       "    }\n",
       "\n",
       "    .dataframe tbody tr th {\n",
       "        vertical-align: top;\n",
       "    }\n",
       "\n",
       "    .dataframe thead th {\n",
       "        text-align: right;\n",
       "    }\n",
       "</style>\n",
       "<table border=\"1\" class=\"dataframe\">\n",
       "  <thead>\n",
       "    <tr style=\"text-align: right;\">\n",
       "      <th></th>\n",
       "      <th>Brand</th>\n",
       "      <th>Product name</th>\n",
       "      <th>Reviews</th>\n",
       "      <th>Price</th>\n",
       "    </tr>\n",
       "  </thead>\n",
       "  <tbody>\n",
       "  </tbody>\n",
       "</table>\n",
       "</div>"
      ],
      "text/plain": [
       "Empty DataFrame\n",
       "Columns: [Brand, Product name, Reviews, Price]\n",
       "Index: []"
      ]
     },
     "execution_count": 82,
     "metadata": {},
     "output_type": "execute_result"
    }
   ],
   "source": [
    "x"
   ]
  },
  {
   "cell_type": "markdown",
   "id": "25ae59e2",
   "metadata": {},
   "source": [
    "# Q-3\n"
   ]
  },
  {
   "cell_type": "code",
   "execution_count": 156,
   "id": "3934fb2e",
   "metadata": {},
   "outputs": [],
   "source": [
    "driver.get(\"https://images.google.com/\")"
   ]
  },
  {
   "cell_type": "code",
   "execution_count": 157,
   "id": "dd528d6a",
   "metadata": {},
   "outputs": [],
   "source": [
    "x = driver.find_element_by_xpath('//*[@id=\"sbtc\"]/div/div[2]/input')"
   ]
  },
  {
   "cell_type": "code",
   "execution_count": 158,
   "id": "b04b4a23",
   "metadata": {},
   "outputs": [],
   "source": [
    "x.send_keys(\"Fruits\")"
   ]
  },
  {
   "cell_type": "code",
   "execution_count": 161,
   "id": "0dfcbb91",
   "metadata": {},
   "outputs": [],
   "source": [
    "x.send_keys(Keys.ENTER)"
   ]
  },
  {
   "cell_type": "code",
   "execution_count": 170,
   "id": "ce2dcf6c",
   "metadata": {},
   "outputs": [],
   "source": [
    "y = range(1, 10)"
   ]
  },
  {
   "cell_type": "code",
   "execution_count": 176,
   "id": "2a475b30",
   "metadata": {},
   "outputs": [
    {
     "ename": "IndentationError",
     "evalue": "expected an indented block (Temp/ipykernel_23244/1966412619.py, line 1)",
     "output_type": "error",
     "traceback": [
      "\u001b[1;36m  File \u001b[1;32m\"C:\\Users\\JayPr\\AppData\\Local\\Temp/ipykernel_23244/1966412619.py\"\u001b[1;36m, line \u001b[1;32m1\u001b[0m\n\u001b[1;33m    for n in y:\u001b[0m\n\u001b[1;37m               ^\u001b[0m\n\u001b[1;31mIndentationError\u001b[0m\u001b[1;31m:\u001b[0m expected an indented block\n"
     ]
    }
   ],
   "source": [
    "    for n in y:"
   ]
  },
  {
   "cell_type": "code",
   "execution_count": null,
   "id": "82b0cb19",
   "metadata": {},
   "outputs": [],
   "source": []
  }
 ],
 "metadata": {
  "kernelspec": {
   "display_name": "Python 3 (ipykernel)",
   "language": "python",
   "name": "python3"
  },
  "language_info": {
   "codemirror_mode": {
    "name": "ipython",
    "version": 3
   },
   "file_extension": ".py",
   "mimetype": "text/x-python",
   "name": "python",
   "nbconvert_exporter": "python",
   "pygments_lexer": "ipython3",
   "version": "3.9.7"
  }
 },
 "nbformat": 4,
 "nbformat_minor": 5
}
