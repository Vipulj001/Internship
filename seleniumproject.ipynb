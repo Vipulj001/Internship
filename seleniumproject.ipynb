{
 "cells": [
  {
   "cell_type": "code",
   "execution_count": 3,
   "id": "e0b0c28a",
   "metadata": {},
   "outputs": [
    {
     "name": "stdout",
     "output_type": "stream",
     "text": [
      "Requirement already satisfied: selenium in c:\\users\\acer\\anaconda3\\lib\\site-packages (4.1.3)\n",
      "Requirement already satisfied: urllib3[secure,socks]~=1.26 in c:\\users\\acer\\anaconda3\\lib\\site-packages (from selenium) (1.26.4)\n",
      "Requirement already satisfied: trio-websocket~=0.9 in c:\\users\\acer\\anaconda3\\lib\\site-packages (from selenium) (0.9.2)\n",
      "Requirement already satisfied: trio~=0.17 in c:\\users\\acer\\anaconda3\\lib\\site-packages (from selenium) (0.20.0)\n",
      "Requirement already satisfied: idna in c:\\users\\acer\\anaconda3\\lib\\site-packages (from trio~=0.17->selenium) (2.10)\n",
      "Requirement already satisfied: cffi>=1.14 in c:\\users\\acer\\anaconda3\\lib\\site-packages (from trio~=0.17->selenium) (1.14.5)\n",
      "Requirement already satisfied: sniffio in c:\\users\\acer\\anaconda3\\lib\\site-packages (from trio~=0.17->selenium) (1.2.0)\n",
      "Requirement already satisfied: sortedcontainers in c:\\users\\acer\\anaconda3\\lib\\site-packages (from trio~=0.17->selenium) (2.3.0)\n",
      "Requirement already satisfied: async-generator>=1.9 in c:\\users\\acer\\anaconda3\\lib\\site-packages (from trio~=0.17->selenium) (1.10)\n",
      "Requirement already satisfied: attrs>=19.2.0 in c:\\users\\acer\\anaconda3\\lib\\site-packages (from trio~=0.17->selenium) (20.3.0)\n",
      "Requirement already satisfied: outcome in c:\\users\\acer\\anaconda3\\lib\\site-packages (from trio~=0.17->selenium) (1.1.0)\n",
      "Requirement already satisfied: pycparser in c:\\users\\acer\\anaconda3\\lib\\site-packages (from cffi>=1.14->trio~=0.17->selenium) (2.20)\n",
      "Requirement already satisfied: wsproto>=0.14 in c:\\users\\acer\\anaconda3\\lib\\site-packages (from trio-websocket~=0.9->selenium) (1.1.0)\n",
      "Requirement already satisfied: pyOpenSSL>=0.14 in c:\\users\\acer\\anaconda3\\lib\\site-packages (from urllib3[secure,socks]~=1.26->selenium) (20.0.1)\n",
      "Requirement already satisfied: cryptography>=1.3.4 in c:\\users\\acer\\anaconda3\\lib\\site-packages (from urllib3[secure,socks]~=1.26->selenium) (3.4.7)\n",
      "Requirement already satisfied: certifi in c:\\users\\acer\\anaconda3\\lib\\site-packages (from urllib3[secure,socks]~=1.26->selenium) (2020.12.5)\n",
      "Requirement already satisfied: PySocks!=1.5.7,<2.0,>=1.5.6 in c:\\users\\acer\\anaconda3\\lib\\site-packages (from urllib3[secure,socks]~=1.26->selenium) (1.7.1)\n",
      "Requirement already satisfied: six>=1.5.2 in c:\\users\\acer\\anaconda3\\lib\\site-packages (from pyOpenSSL>=0.14->urllib3[secure,socks]~=1.26->selenium) (1.15.0)\n",
      "Requirement already satisfied: h11<1,>=0.9.0 in c:\\users\\acer\\anaconda3\\lib\\site-packages (from wsproto>=0.14->trio-websocket~=0.9->selenium) (0.13.0)\n"
     ]
    }
   ],
   "source": [
    "!pip install selenium"
   ]
  },
  {
   "cell_type": "code",
   "execution_count": 59,
   "id": "727dee7e",
   "metadata": {},
   "outputs": [],
   "source": [
    "import pandas as pd\n",
    "import numpy as np\n",
    "import selenium\n",
    "from selenium import webdriver\n",
    "import warnings\n",
    "warnings.filterwarnings('ignore')\n",
    "import time\n",
    "from bs4 import BeautifulSoup"
   ]
  },
  {
   "cell_type": "code",
   "execution_count": 113,
   "id": "4a49917c",
   "metadata": {},
   "outputs": [],
   "source": [
    "driver= webdriver.Chrome(r\"C:\\Users\\hp\\Downloads\\chromedriver_win32\\chromedriver.exe\")"
   ]
  },
  {
   "cell_type": "code",
   "execution_count": 114,
   "id": "664e797b",
   "metadata": {},
   "outputs": [],
   "source": [
    "driver.get(\"https://www.naukri.com/\")"
   ]
  },
  {
   "cell_type": "code",
   "execution_count": 115,
   "id": "4eee6705",
   "metadata": {},
   "outputs": [],
   "source": [
    "search_field_designation=driver.find_element_by_class_name(\"suggestor-input\")\n",
    "search_field_designation.send_keys(\"Data Analyst\")\n",
    "search_field_location=driver.find_element_by_xpath(\"/html/body/div/div[2]/div[3]/div/div/div[3]/div/div/div/input\")\n",
    "search_field_location.send_keys(\"Bangalore\")\n",
    "search_button=driver.find_element_by_xpath(\"/html/body/div/div[2]/div[3]/div/div/div[6]\")\n",
    "search_button.click()"
   ]
  },
  {
   "cell_type": "code",
   "execution_count": 116,
   "id": "596be674",
   "metadata": {},
   "outputs": [],
   "source": [
    "job_titles = []\n",
    "job_location = []\n",
    "company_name  = []\n",
    "experience_required = []"
   ]
  },
  {
   "cell_type": "code",
   "execution_count": 117,
   "id": "0c19df7f",
   "metadata": {},
   "outputs": [
    {
     "data": {
      "text/plain": [
       "[<selenium.webdriver.remote.webelement.WebElement (session=\"a200506781835bb390966bc6b2765bec\", element=\"4f126794-ed4c-4ca5-aacb-61e956cda74e\")>,\n",
       " <selenium.webdriver.remote.webelement.WebElement (session=\"a200506781835bb390966bc6b2765bec\", element=\"fa9bb8e4-23af-498c-9ff5-13b577325ec6\")>,\n",
       " <selenium.webdriver.remote.webelement.WebElement (session=\"a200506781835bb390966bc6b2765bec\", element=\"45c3f7e9-293f-41c3-92b3-dcb8b50aad7d\")>,\n",
       " <selenium.webdriver.remote.webelement.WebElement (session=\"a200506781835bb390966bc6b2765bec\", element=\"ecd09c7a-7ac9-430f-b856-8f9ca33d3b64\")>,\n",
       " <selenium.webdriver.remote.webelement.WebElement (session=\"a200506781835bb390966bc6b2765bec\", element=\"631ecb56-6ea2-4f6b-ab8b-5c89ea6ccd0b\")>,\n",
       " <selenium.webdriver.remote.webelement.WebElement (session=\"a200506781835bb390966bc6b2765bec\", element=\"4dbdf6e2-4698-4546-962a-07d23e8498b2\")>,\n",
       " <selenium.webdriver.remote.webelement.WebElement (session=\"a200506781835bb390966bc6b2765bec\", element=\"97e8c04e-d084-417a-a624-22d81b0eddd9\")>,\n",
       " <selenium.webdriver.remote.webelement.WebElement (session=\"a200506781835bb390966bc6b2765bec\", element=\"99187bc2-6b79-4de3-a661-eed8bedb0908\")>,\n",
       " <selenium.webdriver.remote.webelement.WebElement (session=\"a200506781835bb390966bc6b2765bec\", element=\"a9ec6f97-3885-4e86-b9de-99600cb28ff8\")>,\n",
       " <selenium.webdriver.remote.webelement.WebElement (session=\"a200506781835bb390966bc6b2765bec\", element=\"dafcc6c7-ce10-46d2-8e8b-cd0eb4d52208\")>]"
      ]
     },
     "execution_count": 117,
     "metadata": {},
     "output_type": "execute_result"
    }
   ],
   "source": [
    "title_tags=driver.find_elements_by_xpath(\"//a[@class='title fw500 ellipsis']\")\n",
    "title_tags[0:10]"
   ]
  },
  {
   "cell_type": "code",
   "execution_count": 118,
   "id": "9c7d964c",
   "metadata": {},
   "outputs": [
    {
     "data": {
      "text/plain": [
       "['Business and Data Analyst',\n",
       " 'SAS Analyst / data Analyst / Business analyst - Sas + SQL',\n",
       " 'Data Analyst I',\n",
       " 'Senior Data Analyst',\n",
       " 'Senior Data Analyst, Data & Analytics',\n",
       " 'Lead Data Analyst - Risk Analytics',\n",
       " 'Hiring - Zonal Data Analyst (Off Role) - Operations - Bangalore & Delh',\n",
       " 'Senior Data Analyst',\n",
       " 'Sr Domain Expert -Data Analysts',\n",
       " 'Associate Data Analyst']"
      ]
     },
     "execution_count": 118,
     "metadata": {},
     "output_type": "execute_result"
    }
   ],
   "source": [
    "for i in title_tags:\n",
    "    title=i.text\n",
    "    job_titles.append(title)\n",
    "job_titles[0:10]"
   ]
  },
  {
   "cell_type": "code",
   "execution_count": 119,
   "id": "4b51529f",
   "metadata": {},
   "outputs": [
    {
     "data": {
      "text/plain": [
       "[<selenium.webdriver.remote.webelement.WebElement (session=\"a200506781835bb390966bc6b2765bec\", element=\"4f126794-ed4c-4ca5-aacb-61e956cda74e\")>,\n",
       " <selenium.webdriver.remote.webelement.WebElement (session=\"a200506781835bb390966bc6b2765bec\", element=\"fa9bb8e4-23af-498c-9ff5-13b577325ec6\")>,\n",
       " <selenium.webdriver.remote.webelement.WebElement (session=\"a200506781835bb390966bc6b2765bec\", element=\"45c3f7e9-293f-41c3-92b3-dcb8b50aad7d\")>,\n",
       " <selenium.webdriver.remote.webelement.WebElement (session=\"a200506781835bb390966bc6b2765bec\", element=\"ecd09c7a-7ac9-430f-b856-8f9ca33d3b64\")>,\n",
       " <selenium.webdriver.remote.webelement.WebElement (session=\"a200506781835bb390966bc6b2765bec\", element=\"631ecb56-6ea2-4f6b-ab8b-5c89ea6ccd0b\")>,\n",
       " <selenium.webdriver.remote.webelement.WebElement (session=\"a200506781835bb390966bc6b2765bec\", element=\"4dbdf6e2-4698-4546-962a-07d23e8498b2\")>,\n",
       " <selenium.webdriver.remote.webelement.WebElement (session=\"a200506781835bb390966bc6b2765bec\", element=\"97e8c04e-d084-417a-a624-22d81b0eddd9\")>,\n",
       " <selenium.webdriver.remote.webelement.WebElement (session=\"a200506781835bb390966bc6b2765bec\", element=\"99187bc2-6b79-4de3-a661-eed8bedb0908\")>,\n",
       " <selenium.webdriver.remote.webelement.WebElement (session=\"a200506781835bb390966bc6b2765bec\", element=\"a9ec6f97-3885-4e86-b9de-99600cb28ff8\")>,\n",
       " <selenium.webdriver.remote.webelement.WebElement (session=\"a200506781835bb390966bc6b2765bec\", element=\"dafcc6c7-ce10-46d2-8e8b-cd0eb4d52208\")>]"
      ]
     },
     "execution_count": 119,
     "metadata": {},
     "output_type": "execute_result"
    }
   ],
   "source": [
    "companies_tags=driver.find_elements_by_xpath(\"//a[@class='title fw500 ellipsis']\")\n",
    "companies_tags[0:10]"
   ]
  },
  {
   "cell_type": "code",
   "execution_count": 120,
   "id": "8ddc611d",
   "metadata": {},
   "outputs": [
    {
     "data": {
      "text/plain": [
       "['Business and Data Analyst',\n",
       " 'SAS Analyst / data Analyst / Business analyst - Sas + SQL',\n",
       " 'Data Analyst I',\n",
       " 'Senior Data Analyst',\n",
       " 'Senior Data Analyst, Data & Analytics',\n",
       " 'Lead Data Analyst - Risk Analytics',\n",
       " 'Hiring - Zonal Data Analyst (Off Role) - Operations - Bangalore & Delh',\n",
       " 'Senior Data Analyst',\n",
       " 'Sr Domain Expert -Data Analysts',\n",
       " 'Associate Data Analyst']"
      ]
     },
     "execution_count": 120,
     "metadata": {},
     "output_type": "execute_result"
    }
   ],
   "source": [
    "for i in companies_tags:\n",
    "    companies=i.text\n",
    "    company_name.append(companies)\n",
    "company_name[0:10]"
   ]
  },
  {
   "cell_type": "code",
   "execution_count": 121,
   "id": "a0d8546c",
   "metadata": {},
   "outputs": [
    {
     "data": {
      "text/plain": [
       "[<selenium.webdriver.remote.webelement.WebElement (session=\"a200506781835bb390966bc6b2765bec\", element=\"f2ead38f-682f-4bf9-9fbf-3dacfb0eeaa1\")>,\n",
       " <selenium.webdriver.remote.webelement.WebElement (session=\"a200506781835bb390966bc6b2765bec\", element=\"88060401-9c40-4a96-ba3d-19cd83641696\")>,\n",
       " <selenium.webdriver.remote.webelement.WebElement (session=\"a200506781835bb390966bc6b2765bec\", element=\"9edac1bf-4b43-4f55-97e1-bc9dfc239c3c\")>,\n",
       " <selenium.webdriver.remote.webelement.WebElement (session=\"a200506781835bb390966bc6b2765bec\", element=\"c24be63b-0be3-499c-9f58-d446be238664\")>,\n",
       " <selenium.webdriver.remote.webelement.WebElement (session=\"a200506781835bb390966bc6b2765bec\", element=\"c86db997-d2a1-43bb-9306-54ddabf27821\")>,\n",
       " <selenium.webdriver.remote.webelement.WebElement (session=\"a200506781835bb390966bc6b2765bec\", element=\"1aa92f25-c91a-4103-9c06-b11072cd6e0d\")>,\n",
       " <selenium.webdriver.remote.webelement.WebElement (session=\"a200506781835bb390966bc6b2765bec\", element=\"42ba6e8d-1a12-48da-aec2-a5023e070ea4\")>,\n",
       " <selenium.webdriver.remote.webelement.WebElement (session=\"a200506781835bb390966bc6b2765bec\", element=\"41724067-28c3-46e8-8bb4-f78241930c46\")>,\n",
       " <selenium.webdriver.remote.webelement.WebElement (session=\"a200506781835bb390966bc6b2765bec\", element=\"aef76a0f-3a00-4046-a972-3d51d99ac140\")>,\n",
       " <selenium.webdriver.remote.webelement.WebElement (session=\"a200506781835bb390966bc6b2765bec\", element=\"625032a8-9521-4955-9c03-a4cd5f05bba2\")>]"
      ]
     },
     "execution_count": 121,
     "metadata": {},
     "output_type": "execute_result"
    }
   ],
   "source": [
    "experience_tags=driver.find_elements_by_xpath(\"//li[@class='fleft grey-text br2 placeHolderLi experience']/span[1]\")\n",
    "experience_tags[0:10]"
   ]
  },
  {
   "cell_type": "code",
   "execution_count": 122,
   "id": "2d838206",
   "metadata": {},
   "outputs": [
    {
     "data": {
      "text/plain": [
       "['0-5 Yrs',\n",
       " '2-7 Yrs',\n",
       " '0-3 Yrs',\n",
       " '10-12 Yrs',\n",
       " '3-5 Yrs',\n",
       " '5-11 Yrs',\n",
       " '2-7 Yrs',\n",
       " '3-6 Yrs',\n",
       " '0-10 Yrs',\n",
       " '2-7 Yrs']"
      ]
     },
     "execution_count": 122,
     "metadata": {},
     "output_type": "execute_result"
    }
   ],
   "source": [
    "for i in experience_tags:\n",
    "    experiences=i.text\n",
    "    experience_required.append(experiences)\n",
    "experience_required[0:10]"
   ]
  },
  {
   "cell_type": "code",
   "execution_count": 123,
   "id": "cedc4485",
   "metadata": {},
   "outputs": [
    {
     "data": {
      "text/plain": [
       "[<selenium.webdriver.remote.webelement.WebElement (session=\"a200506781835bb390966bc6b2765bec\", element=\"edae66f0-189b-4295-b104-1527edc7e43f\")>,\n",
       " <selenium.webdriver.remote.webelement.WebElement (session=\"a200506781835bb390966bc6b2765bec\", element=\"cc04cbb6-0947-4710-b268-cb198ac56b4f\")>,\n",
       " <selenium.webdriver.remote.webelement.WebElement (session=\"a200506781835bb390966bc6b2765bec\", element=\"88c46799-f2cb-4124-9c46-8ec1180d9a27\")>,\n",
       " <selenium.webdriver.remote.webelement.WebElement (session=\"a200506781835bb390966bc6b2765bec\", element=\"5d1a1428-e9e6-4e62-a930-c795bae3d33e\")>,\n",
       " <selenium.webdriver.remote.webelement.WebElement (session=\"a200506781835bb390966bc6b2765bec\", element=\"9e6131ca-d2be-45d7-9cbb-bf4c1ad0c1f1\")>,\n",
       " <selenium.webdriver.remote.webelement.WebElement (session=\"a200506781835bb390966bc6b2765bec\", element=\"c8def7d9-763a-476e-98e8-39a37ef1e3cd\")>,\n",
       " <selenium.webdriver.remote.webelement.WebElement (session=\"a200506781835bb390966bc6b2765bec\", element=\"fe817085-cf54-419f-ab39-719c0f29f1cd\")>,\n",
       " <selenium.webdriver.remote.webelement.WebElement (session=\"a200506781835bb390966bc6b2765bec\", element=\"f8781439-a8e1-43df-bce7-c80e3838aa5b\")>,\n",
       " <selenium.webdriver.remote.webelement.WebElement (session=\"a200506781835bb390966bc6b2765bec\", element=\"433e5612-6ca1-41d5-94ff-06ec363a8c9e\")>,\n",
       " <selenium.webdriver.remote.webelement.WebElement (session=\"a200506781835bb390966bc6b2765bec\", element=\"92a9fdaa-f630-48ce-9da3-9b68d49971b2\")>]"
      ]
     },
     "execution_count": 123,
     "metadata": {},
     "output_type": "execute_result"
    }
   ],
   "source": [
    "location_tags=driver.find_elements_by_xpath(\"//li[@class='fleft grey-text br2 placeHolderLi location']/span[1]\")\n",
    "location_tags[0:10]"
   ]
  },
  {
   "cell_type": "code",
   "execution_count": 124,
   "id": "2c5ff76b",
   "metadata": {},
   "outputs": [
    {
     "data": {
      "text/plain": [
       "['Bangalore/Bengaluru',\n",
       " 'Bangalore/Bengaluru, Delhi / NCR, Mumbai (All Areas)',\n",
       " 'Bangalore/Bengaluru',\n",
       " 'Bangalore/Bengaluru',\n",
       " 'Bangalore/Bengaluru',\n",
       " 'Bangalore/Bengaluru',\n",
       " 'New Delhi, Bangalore/Bengaluru',\n",
       " 'Chennai, Bangalore/Bengaluru',\n",
       " 'Bangalore/Bengaluru',\n",
       " 'Bangalore/Bengaluru']"
      ]
     },
     "execution_count": 124,
     "metadata": {},
     "output_type": "execute_result"
    }
   ],
   "source": [
    "for i in location_tags:\n",
    "    location=i.text\n",
    "    job_location.append(location)\n",
    "job_location[0:10]"
   ]
  },
  {
   "cell_type": "code",
   "execution_count": 125,
   "id": "83b96ac5",
   "metadata": {},
   "outputs": [
    {
     "name": "stdout",
     "output_type": "stream",
     "text": [
      "20 20 20 20\n"
     ]
    }
   ],
   "source": [
    "print(len(job_titles),len(company_name),len(experience_required),len(job_location))"
   ]
  },
  {
   "cell_type": "code",
   "execution_count": 126,
   "id": "5823381b",
   "metadata": {},
   "outputs": [],
   "source": [
    "jobs=pd.DataFrame({})\n",
    "jobs['title']=job_titles\n",
    "jobs['company']=company_name\n",
    "jobs['experience']=experience_required\n",
    "jobs['location']=job_location"
   ]
  },
  {
   "cell_type": "code",
   "execution_count": 128,
   "id": "b770c4f9",
   "metadata": {},
   "outputs": [
    {
     "data": {
      "text/html": [
       "<div>\n",
       "<style scoped>\n",
       "    .dataframe tbody tr th:only-of-type {\n",
       "        vertical-align: middle;\n",
       "    }\n",
       "\n",
       "    .dataframe tbody tr th {\n",
       "        vertical-align: top;\n",
       "    }\n",
       "\n",
       "    .dataframe thead th {\n",
       "        text-align: right;\n",
       "    }\n",
       "</style>\n",
       "<table border=\"1\" class=\"dataframe\">\n",
       "  <thead>\n",
       "    <tr style=\"text-align: right;\">\n",
       "      <th></th>\n",
       "      <th>title</th>\n",
       "      <th>company</th>\n",
       "      <th>experience</th>\n",
       "      <th>location</th>\n",
       "    </tr>\n",
       "  </thead>\n",
       "  <tbody>\n",
       "    <tr>\n",
       "      <th>0</th>\n",
       "      <td>Business and Data Analyst</td>\n",
       "      <td>Business and Data Analyst</td>\n",
       "      <td>0-5 Yrs</td>\n",
       "      <td>Bangalore/Bengaluru</td>\n",
       "    </tr>\n",
       "    <tr>\n",
       "      <th>1</th>\n",
       "      <td>SAS Analyst / data Analyst / Business analyst ...</td>\n",
       "      <td>SAS Analyst / data Analyst / Business analyst ...</td>\n",
       "      <td>2-7 Yrs</td>\n",
       "      <td>Bangalore/Bengaluru, Delhi / NCR, Mumbai (All ...</td>\n",
       "    </tr>\n",
       "    <tr>\n",
       "      <th>2</th>\n",
       "      <td>Data Analyst I</td>\n",
       "      <td>Data Analyst I</td>\n",
       "      <td>0-3 Yrs</td>\n",
       "      <td>Bangalore/Bengaluru</td>\n",
       "    </tr>\n",
       "    <tr>\n",
       "      <th>3</th>\n",
       "      <td>Senior Data Analyst</td>\n",
       "      <td>Senior Data Analyst</td>\n",
       "      <td>10-12 Yrs</td>\n",
       "      <td>Bangalore/Bengaluru</td>\n",
       "    </tr>\n",
       "    <tr>\n",
       "      <th>4</th>\n",
       "      <td>Senior Data Analyst, Data &amp; Analytics</td>\n",
       "      <td>Senior Data Analyst, Data &amp; Analytics</td>\n",
       "      <td>3-5 Yrs</td>\n",
       "      <td>Bangalore/Bengaluru</td>\n",
       "    </tr>\n",
       "    <tr>\n",
       "      <th>5</th>\n",
       "      <td>Lead Data Analyst - Risk Analytics</td>\n",
       "      <td>Lead Data Analyst - Risk Analytics</td>\n",
       "      <td>5-11 Yrs</td>\n",
       "      <td>Bangalore/Bengaluru</td>\n",
       "    </tr>\n",
       "    <tr>\n",
       "      <th>6</th>\n",
       "      <td>Hiring - Zonal Data Analyst (Off Role) - Opera...</td>\n",
       "      <td>Hiring - Zonal Data Analyst (Off Role) - Opera...</td>\n",
       "      <td>2-7 Yrs</td>\n",
       "      <td>New Delhi, Bangalore/Bengaluru</td>\n",
       "    </tr>\n",
       "    <tr>\n",
       "      <th>7</th>\n",
       "      <td>Senior Data Analyst</td>\n",
       "      <td>Senior Data Analyst</td>\n",
       "      <td>3-6 Yrs</td>\n",
       "      <td>Chennai, Bangalore/Bengaluru</td>\n",
       "    </tr>\n",
       "    <tr>\n",
       "      <th>8</th>\n",
       "      <td>Sr Domain Expert -Data Analysts</td>\n",
       "      <td>Sr Domain Expert -Data Analysts</td>\n",
       "      <td>0-10 Yrs</td>\n",
       "      <td>Bangalore/Bengaluru</td>\n",
       "    </tr>\n",
       "    <tr>\n",
       "      <th>9</th>\n",
       "      <td>Associate Data Analyst</td>\n",
       "      <td>Associate Data Analyst</td>\n",
       "      <td>2-7 Yrs</td>\n",
       "      <td>Bangalore/Bengaluru</td>\n",
       "    </tr>\n",
       "  </tbody>\n",
       "</table>\n",
       "</div>"
      ],
      "text/plain": [
       "                                               title  \\\n",
       "0                          Business and Data Analyst   \n",
       "1  SAS Analyst / data Analyst / Business analyst ...   \n",
       "2                                     Data Analyst I   \n",
       "3                                Senior Data Analyst   \n",
       "4              Senior Data Analyst, Data & Analytics   \n",
       "5                 Lead Data Analyst - Risk Analytics   \n",
       "6  Hiring - Zonal Data Analyst (Off Role) - Opera...   \n",
       "7                                Senior Data Analyst   \n",
       "8                    Sr Domain Expert -Data Analysts   \n",
       "9                             Associate Data Analyst   \n",
       "\n",
       "                                             company experience  \\\n",
       "0                          Business and Data Analyst    0-5 Yrs   \n",
       "1  SAS Analyst / data Analyst / Business analyst ...    2-7 Yrs   \n",
       "2                                     Data Analyst I    0-3 Yrs   \n",
       "3                                Senior Data Analyst  10-12 Yrs   \n",
       "4              Senior Data Analyst, Data & Analytics    3-5 Yrs   \n",
       "5                 Lead Data Analyst - Risk Analytics   5-11 Yrs   \n",
       "6  Hiring - Zonal Data Analyst (Off Role) - Opera...    2-7 Yrs   \n",
       "7                                Senior Data Analyst    3-6 Yrs   \n",
       "8                    Sr Domain Expert -Data Analysts   0-10 Yrs   \n",
       "9                             Associate Data Analyst    2-7 Yrs   \n",
       "\n",
       "                                            location  \n",
       "0                                Bangalore/Bengaluru  \n",
       "1  Bangalore/Bengaluru, Delhi / NCR, Mumbai (All ...  \n",
       "2                                Bangalore/Bengaluru  \n",
       "3                                Bangalore/Bengaluru  \n",
       "4                                Bangalore/Bengaluru  \n",
       "5                                Bangalore/Bengaluru  \n",
       "6                     New Delhi, Bangalore/Bengaluru  \n",
       "7                       Chennai, Bangalore/Bengaluru  \n",
       "8                                Bangalore/Bengaluru  \n",
       "9                                Bangalore/Bengaluru  "
      ]
     },
     "execution_count": 128,
     "metadata": {},
     "output_type": "execute_result"
    }
   ],
   "source": [
    "jobs.head(10)"
   ]
  },
  {
   "cell_type": "markdown",
   "id": "3590b09f",
   "metadata": {},
   "source": [
    "Q3: In this question you have to scrape data using the filters available on the webpage. You have to use the location and salary filter. You have to scrape data for “Data Scientist” designation for first 10 job results. You have to scrape the job-title, job-location, company_name, experience_required."
   ]
  },
  {
   "cell_type": "code",
   "execution_count": 283,
   "id": "cfb829cd",
   "metadata": {},
   "outputs": [],
   "source": [
    "driver= webdriver.Chrome(r\"C:\\Users\\hp\\Downloads\\chromedriver_win32\\chromedriver.exe\")"
   ]
  },
  {
   "cell_type": "code",
   "execution_count": 284,
   "id": "edb14796",
   "metadata": {},
   "outputs": [],
   "source": [
    "driver.get(\"https://www.naukri.com/\")"
   ]
  },
  {
   "cell_type": "code",
   "execution_count": 285,
   "id": "98fc9583",
   "metadata": {},
   "outputs": [],
   "source": [
    "search_field_designation=driver.find_element_by_class_name(\"suggestor-input\")\n",
    "search_field_designation.send_keys(\"Data Analyst\")\n",
    "search_button=driver.find_element_by_xpath(\"/html/body/div/div[2]/div[3]/div/div/div[6]\")\n",
    "search_button.click()"
   ]
  },
  {
   "cell_type": "code",
   "execution_count": 286,
   "id": "dd19daa9",
   "metadata": {},
   "outputs": [],
   "source": [
    "job_titles = []\n",
    "job_location = []\n",
    "company_name  = []\n",
    "experience_required = []"
   ]
  },
  {
   "cell_type": "code",
   "execution_count": 287,
   "id": "b9726607",
   "metadata": {},
   "outputs": [
    {
     "data": {
      "text/plain": [
       "[<selenium.webdriver.remote.webelement.WebElement (session=\"b85334b831a4e2e10b8ce8a520236aa5\", element=\"1ba45613-5444-4297-a47a-df24285c9d1b\")>,\n",
       " <selenium.webdriver.remote.webelement.WebElement (session=\"b85334b831a4e2e10b8ce8a520236aa5\", element=\"ecfd2101-e240-46ed-be15-1bc2677a3873\")>,\n",
       " <selenium.webdriver.remote.webelement.WebElement (session=\"b85334b831a4e2e10b8ce8a520236aa5\", element=\"43ba9711-93a4-4b3f-a213-196445c6b529\")>,\n",
       " <selenium.webdriver.remote.webelement.WebElement (session=\"b85334b831a4e2e10b8ce8a520236aa5\", element=\"e536ce36-00d1-4d63-866a-b32a7ca9f32a\")>,\n",
       " <selenium.webdriver.remote.webelement.WebElement (session=\"b85334b831a4e2e10b8ce8a520236aa5\", element=\"408d071b-0083-42ae-8107-d8eaf76afc92\")>,\n",
       " <selenium.webdriver.remote.webelement.WebElement (session=\"b85334b831a4e2e10b8ce8a520236aa5\", element=\"5e994fc9-5e0e-4f2f-b4cd-0152cc69c096\")>,\n",
       " <selenium.webdriver.remote.webelement.WebElement (session=\"b85334b831a4e2e10b8ce8a520236aa5\", element=\"3fc930c8-709a-4914-9812-02554f0a4ed0\")>,\n",
       " <selenium.webdriver.remote.webelement.WebElement (session=\"b85334b831a4e2e10b8ce8a520236aa5\", element=\"ca1aa833-7902-4f83-97b0-b7947e6b699b\")>,\n",
       " <selenium.webdriver.remote.webelement.WebElement (session=\"b85334b831a4e2e10b8ce8a520236aa5\", element=\"941ab5f2-7831-4067-af77-1f2fcf2ea4d6\")>,\n",
       " <selenium.webdriver.remote.webelement.WebElement (session=\"b85334b831a4e2e10b8ce8a520236aa5\", element=\"47557da3-0b20-4272-a0dc-774516adb461\")>]"
      ]
     },
     "execution_count": 287,
     "metadata": {},
     "output_type": "execute_result"
    }
   ],
   "source": [
    "title_tags=driver.find_elements_by_xpath(\"//a[@class='title fw500 ellipsis']\")\n",
    "title_tags[0:10]"
   ]
  },
  {
   "cell_type": "code",
   "execution_count": 288,
   "id": "5b1e8472",
   "metadata": {},
   "outputs": [
    {
     "data": {
      "text/plain": [
       "['Data Analyst',\n",
       " 'Job opportunity For the position of Financial Data Analyst',\n",
       " 'Hiring - Zonal Data Analyst (Off Role) - Operations - Bangalore & Delh',\n",
       " 'Urgent opening For AM - Data Analyst Analytics role',\n",
       " 'Hiring - Healthcare Data Analyst- US Healthcare- Night Shifts',\n",
       " 'Data Analyst',\n",
       " 'Amex is hiring For Analyst/ Sr. Analyst - Data Governance',\n",
       " 'Jeevansathi.com is hiring For Product Operations - Data Analyst',\n",
       " 'Sr . Data Analyst',\n",
       " 'Data Analyst']"
      ]
     },
     "execution_count": 288,
     "metadata": {},
     "output_type": "execute_result"
    }
   ],
   "source": [
    "for i in title_tags:\n",
    "    title=i.text\n",
    "    job_titles.append(title)\n",
    "job_titles[0:10]"
   ]
  },
  {
   "cell_type": "code",
   "execution_count": 289,
   "id": "d0f0b005",
   "metadata": {},
   "outputs": [
    {
     "data": {
      "text/plain": [
       "[<selenium.webdriver.remote.webelement.WebElement (session=\"b85334b831a4e2e10b8ce8a520236aa5\", element=\"ca62ef37-922c-4a73-9491-267a601749af\")>,\n",
       " <selenium.webdriver.remote.webelement.WebElement (session=\"b85334b831a4e2e10b8ce8a520236aa5\", element=\"d3e3a032-3896-4e98-bed3-0119fab1bf1f\")>,\n",
       " <selenium.webdriver.remote.webelement.WebElement (session=\"b85334b831a4e2e10b8ce8a520236aa5\", element=\"3c41361b-1887-431f-89e1-3b09a5cf5d93\")>,\n",
       " <selenium.webdriver.remote.webelement.WebElement (session=\"b85334b831a4e2e10b8ce8a520236aa5\", element=\"2ee58d5f-5864-44b8-8e63-41fb0bb9e394\")>,\n",
       " <selenium.webdriver.remote.webelement.WebElement (session=\"b85334b831a4e2e10b8ce8a520236aa5\", element=\"ad6f3d5c-bb15-4dea-b544-f9fb60855c06\")>,\n",
       " <selenium.webdriver.remote.webelement.WebElement (session=\"b85334b831a4e2e10b8ce8a520236aa5\", element=\"13f2a329-cfe6-46d2-b99b-d859d1960067\")>,\n",
       " <selenium.webdriver.remote.webelement.WebElement (session=\"b85334b831a4e2e10b8ce8a520236aa5\", element=\"52f73a16-a733-481f-9db2-aa564f4943d6\")>,\n",
       " <selenium.webdriver.remote.webelement.WebElement (session=\"b85334b831a4e2e10b8ce8a520236aa5\", element=\"1b0b0c53-d3ba-4fb5-b33d-91cb5cc9b580\")>,\n",
       " <selenium.webdriver.remote.webelement.WebElement (session=\"b85334b831a4e2e10b8ce8a520236aa5\", element=\"3b65e53c-e671-442e-90e4-33ff5dd39386\")>,\n",
       " <selenium.webdriver.remote.webelement.WebElement (session=\"b85334b831a4e2e10b8ce8a520236aa5\", element=\"8ffd7ee9-3b38-4b94-a1ae-f720543704bd\")>]"
      ]
     },
     "execution_count": 289,
     "metadata": {},
     "output_type": "execute_result"
    }
   ],
   "source": [
    "location_tags=driver.find_elements_by_xpath(\"//li[@class='fleft grey-text br2 placeHolderLi location']/span[1]\")\n",
    "location_tags[0:10]"
   ]
  },
  {
   "cell_type": "code",
   "execution_count": 290,
   "id": "9a8f022d",
   "metadata": {},
   "outputs": [
    {
     "data": {
      "text/plain": [
       "['Gurgaon/Gurugram',\n",
       " 'Gurgaon/Gurugram',\n",
       " 'New Delhi, Bangalore/Bengaluru',\n",
       " 'Gurgaon/Gurugram',\n",
       " 'Noida',\n",
       " 'Gurgaon/Gurugram, Delhi / NCR',\n",
       " 'Gurgaon/Gurugram, Delhi / NCR',\n",
       " 'Noida',\n",
       " 'Gurgaon/Gurugram',\n",
       " 'Gurgaon/Gurugram']"
      ]
     },
     "execution_count": 290,
     "metadata": {},
     "output_type": "execute_result"
    }
   ],
   "source": [
    "for i in location_tags:\n",
    "    location=i.text\n",
    "    job_location.append(location)\n",
    "job_location[0:10]"
   ]
  },
  {
   "cell_type": "code",
   "execution_count": 291,
   "id": "d35e7e43",
   "metadata": {},
   "outputs": [
    {
     "data": {
      "text/plain": [
       "[<selenium.webdriver.remote.webelement.WebElement (session=\"b85334b831a4e2e10b8ce8a520236aa5\", element=\"9dacff4d-78fb-4963-b1a3-e91f118b511e\")>,\n",
       " <selenium.webdriver.remote.webelement.WebElement (session=\"b85334b831a4e2e10b8ce8a520236aa5\", element=\"c75f5695-2556-43ad-b06b-e10439030ce2\")>,\n",
       " <selenium.webdriver.remote.webelement.WebElement (session=\"b85334b831a4e2e10b8ce8a520236aa5\", element=\"af94ebfe-9bdc-450a-bcb3-88e58bc82e26\")>,\n",
       " <selenium.webdriver.remote.webelement.WebElement (session=\"b85334b831a4e2e10b8ce8a520236aa5\", element=\"550b1b33-ba4b-4af2-a790-d3a35e4e9117\")>,\n",
       " <selenium.webdriver.remote.webelement.WebElement (session=\"b85334b831a4e2e10b8ce8a520236aa5\", element=\"40a6ac8e-3277-4276-a6ea-87af275e5e8a\")>,\n",
       " <selenium.webdriver.remote.webelement.WebElement (session=\"b85334b831a4e2e10b8ce8a520236aa5\", element=\"ed158ed0-d973-4277-acc5-8762b0e40380\")>,\n",
       " <selenium.webdriver.remote.webelement.WebElement (session=\"b85334b831a4e2e10b8ce8a520236aa5\", element=\"5a56f023-e993-4563-9661-157ee95cf2bc\")>,\n",
       " <selenium.webdriver.remote.webelement.WebElement (session=\"b85334b831a4e2e10b8ce8a520236aa5\", element=\"049aa693-0fdb-40e9-a6e6-c0b53bb60e43\")>,\n",
       " <selenium.webdriver.remote.webelement.WebElement (session=\"b85334b831a4e2e10b8ce8a520236aa5\", element=\"8e179a42-f193-4246-b293-5db4322cb883\")>,\n",
       " <selenium.webdriver.remote.webelement.WebElement (session=\"b85334b831a4e2e10b8ce8a520236aa5\", element=\"0e950722-1f20-4643-a913-86d873d640a9\")>]"
      ]
     },
     "execution_count": 291,
     "metadata": {},
     "output_type": "execute_result"
    }
   ],
   "source": [
    "company_tags=driver.find_elements_by_xpath(\"//a[@class='subTitle ellipsis fleft']\")\n",
    "company_tags[0:10]"
   ]
  },
  {
   "cell_type": "code",
   "execution_count": 292,
   "id": "251789d7",
   "metadata": {},
   "outputs": [
    {
     "data": {
      "text/plain": [
       "['TOTAL MARKETING SUPPORT INDIA PRIVATE LIMITED',\n",
       " 'NIRVANA SOLUTIONS INDIA PRIVATE LIMITED',\n",
       " 'Rupeek',\n",
       " 'Pramerica Life',\n",
       " 'KOZENT TEC PRIVATE LIMITED',\n",
       " 'West Wind Retail Pvt. Ltd.',\n",
       " 'AMERICAN EXPRESS',\n",
       " 'Info Edge India',\n",
       " 'Also Energy',\n",
       " 'Redian Software Pvt Ltd']"
      ]
     },
     "execution_count": 292,
     "metadata": {},
     "output_type": "execute_result"
    }
   ],
   "source": [
    "for i in company_tags:\n",
    "    company=i.text\n",
    "    company_name.append(company)\n",
    "company_name[0:10]"
   ]
  },
  {
   "cell_type": "code",
   "execution_count": 296,
   "id": "3e7da6ec",
   "metadata": {},
   "outputs": [
    {
     "data": {
      "text/plain": [
       "[<selenium.webdriver.remote.webelement.WebElement (session=\"b85334b831a4e2e10b8ce8a520236aa5\", element=\"c611baf9-21f8-417f-b245-eed6a33c8bdb\")>,\n",
       " <selenium.webdriver.remote.webelement.WebElement (session=\"b85334b831a4e2e10b8ce8a520236aa5\", element=\"18b312fe-5bfc-4e8f-bd47-ce8944251d37\")>,\n",
       " <selenium.webdriver.remote.webelement.WebElement (session=\"b85334b831a4e2e10b8ce8a520236aa5\", element=\"71ecf1ae-930b-4032-b72c-feac60b0c447\")>,\n",
       " <selenium.webdriver.remote.webelement.WebElement (session=\"b85334b831a4e2e10b8ce8a520236aa5\", element=\"de48550a-9ff8-4793-921b-16432c2ce38d\")>,\n",
       " <selenium.webdriver.remote.webelement.WebElement (session=\"b85334b831a4e2e10b8ce8a520236aa5\", element=\"246d5204-4ce1-4026-9a72-5d7e79e7f06f\")>,\n",
       " <selenium.webdriver.remote.webelement.WebElement (session=\"b85334b831a4e2e10b8ce8a520236aa5\", element=\"98b2f97b-bb83-475c-b4ec-3d373ab6cc72\")>,\n",
       " <selenium.webdriver.remote.webelement.WebElement (session=\"b85334b831a4e2e10b8ce8a520236aa5\", element=\"b9a6978c-3460-4120-b3ba-7b2715b9cdd2\")>,\n",
       " <selenium.webdriver.remote.webelement.WebElement (session=\"b85334b831a4e2e10b8ce8a520236aa5\", element=\"b7f93235-76a6-4c33-b450-6ac6c56de21e\")>,\n",
       " <selenium.webdriver.remote.webelement.WebElement (session=\"b85334b831a4e2e10b8ce8a520236aa5\", element=\"42618037-b05e-413d-816f-2879435a9303\")>,\n",
       " <selenium.webdriver.remote.webelement.WebElement (session=\"b85334b831a4e2e10b8ce8a520236aa5\", element=\"2e4dc276-b3d0-4be6-b12b-be619b0c0084\")>]"
      ]
     },
     "execution_count": 296,
     "metadata": {},
     "output_type": "execute_result"
    }
   ],
   "source": [
    "experience_tags=driver.find_elements_by_xpath(\"//li[@class='fleft grey-text br2 placeHolderLi experience']/span[1]\")\n",
    "experience_tags[0:10]"
   ]
  },
  {
   "cell_type": "code",
   "execution_count": 297,
   "id": "ff669fc9",
   "metadata": {},
   "outputs": [
    {
     "data": {
      "text/plain": [
       "['03 May',\n",
       " '0-5 Yrs',\n",
       " '2-7 Yrs',\n",
       " '4-6 Yrs',\n",
       " '2-6 Yrs',\n",
       " '3-6 Yrs',\n",
       " '1-6 Yrs',\n",
       " '1-3 Yrs',\n",
       " '3-6 Yrs',\n",
       " '3-5 Yrs']"
      ]
     },
     "execution_count": 297,
     "metadata": {},
     "output_type": "execute_result"
    }
   ],
   "source": [
    "for i in experience_tags:\n",
    "    experience=i.text\n",
    "    experience_required.append(experience)\n",
    "experience_required[0:10]"
   ]
  },
  {
   "cell_type": "code",
   "execution_count": 298,
   "id": "0b3d2588",
   "metadata": {},
   "outputs": [
    {
     "name": "stdout",
     "output_type": "stream",
     "text": [
      "20 20 20 20\n"
     ]
    }
   ],
   "source": [
    "print(len(job_titles),len(job_location),len(company_name),len(experience_required))"
   ]
  },
  {
   "cell_type": "code",
   "execution_count": 299,
   "id": "4e359073",
   "metadata": {},
   "outputs": [],
   "source": [
    "job=pd.DataFrame({})\n",
    "job['title']=job_titles\n",
    "job['company']=company_name\n",
    "job['experience']=experience_required\n",
    "job['location']=job_location"
   ]
  },
  {
   "cell_type": "code",
   "execution_count": 300,
   "id": "07808cd2",
   "metadata": {},
   "outputs": [
    {
     "data": {
      "text/html": [
       "<div>\n",
       "<style scoped>\n",
       "    .dataframe tbody tr th:only-of-type {\n",
       "        vertical-align: middle;\n",
       "    }\n",
       "\n",
       "    .dataframe tbody tr th {\n",
       "        vertical-align: top;\n",
       "    }\n",
       "\n",
       "    .dataframe thead th {\n",
       "        text-align: right;\n",
       "    }\n",
       "</style>\n",
       "<table border=\"1\" class=\"dataframe\">\n",
       "  <thead>\n",
       "    <tr style=\"text-align: right;\">\n",
       "      <th></th>\n",
       "      <th>title</th>\n",
       "      <th>company</th>\n",
       "      <th>experience</th>\n",
       "      <th>location</th>\n",
       "    </tr>\n",
       "  </thead>\n",
       "  <tbody>\n",
       "    <tr>\n",
       "      <th>0</th>\n",
       "      <td>Data Analyst</td>\n",
       "      <td>TOTAL MARKETING SUPPORT INDIA PRIVATE LIMITED</td>\n",
       "      <td>03 May</td>\n",
       "      <td>Gurgaon/Gurugram</td>\n",
       "    </tr>\n",
       "    <tr>\n",
       "      <th>1</th>\n",
       "      <td>Job opportunity For the position of Financial ...</td>\n",
       "      <td>NIRVANA SOLUTIONS INDIA PRIVATE LIMITED</td>\n",
       "      <td>0-5 Yrs</td>\n",
       "      <td>Gurgaon/Gurugram</td>\n",
       "    </tr>\n",
       "    <tr>\n",
       "      <th>2</th>\n",
       "      <td>Hiring - Zonal Data Analyst (Off Role) - Opera...</td>\n",
       "      <td>Rupeek</td>\n",
       "      <td>2-7 Yrs</td>\n",
       "      <td>New Delhi, Bangalore/Bengaluru</td>\n",
       "    </tr>\n",
       "    <tr>\n",
       "      <th>3</th>\n",
       "      <td>Urgent opening For AM - Data Analyst Analytics...</td>\n",
       "      <td>Pramerica Life</td>\n",
       "      <td>4-6 Yrs</td>\n",
       "      <td>Gurgaon/Gurugram</td>\n",
       "    </tr>\n",
       "    <tr>\n",
       "      <th>4</th>\n",
       "      <td>Hiring - Healthcare Data Analyst- US Healthcar...</td>\n",
       "      <td>KOZENT TEC PRIVATE LIMITED</td>\n",
       "      <td>2-6 Yrs</td>\n",
       "      <td>Noida</td>\n",
       "    </tr>\n",
       "    <tr>\n",
       "      <th>5</th>\n",
       "      <td>Data Analyst</td>\n",
       "      <td>West Wind Retail Pvt. Ltd.</td>\n",
       "      <td>3-6 Yrs</td>\n",
       "      <td>Gurgaon/Gurugram, Delhi / NCR</td>\n",
       "    </tr>\n",
       "    <tr>\n",
       "      <th>6</th>\n",
       "      <td>Amex is hiring For Analyst/ Sr. Analyst - Data...</td>\n",
       "      <td>AMERICAN EXPRESS</td>\n",
       "      <td>1-6 Yrs</td>\n",
       "      <td>Gurgaon/Gurugram, Delhi / NCR</td>\n",
       "    </tr>\n",
       "    <tr>\n",
       "      <th>7</th>\n",
       "      <td>Jeevansathi.com is hiring For Product Operatio...</td>\n",
       "      <td>Info Edge India</td>\n",
       "      <td>1-3 Yrs</td>\n",
       "      <td>Noida</td>\n",
       "    </tr>\n",
       "    <tr>\n",
       "      <th>8</th>\n",
       "      <td>Sr . Data Analyst</td>\n",
       "      <td>Also Energy</td>\n",
       "      <td>3-6 Yrs</td>\n",
       "      <td>Gurgaon/Gurugram</td>\n",
       "    </tr>\n",
       "    <tr>\n",
       "      <th>9</th>\n",
       "      <td>Data Analyst</td>\n",
       "      <td>Redian Software Pvt Ltd</td>\n",
       "      <td>3-5 Yrs</td>\n",
       "      <td>Gurgaon/Gurugram</td>\n",
       "    </tr>\n",
       "  </tbody>\n",
       "</table>\n",
       "</div>"
      ],
      "text/plain": [
       "                                               title  \\\n",
       "0                                       Data Analyst   \n",
       "1  Job opportunity For the position of Financial ...   \n",
       "2  Hiring - Zonal Data Analyst (Off Role) - Opera...   \n",
       "3  Urgent opening For AM - Data Analyst Analytics...   \n",
       "4  Hiring - Healthcare Data Analyst- US Healthcar...   \n",
       "5                                       Data Analyst   \n",
       "6  Amex is hiring For Analyst/ Sr. Analyst - Data...   \n",
       "7  Jeevansathi.com is hiring For Product Operatio...   \n",
       "8                                  Sr . Data Analyst   \n",
       "9                                       Data Analyst   \n",
       "\n",
       "                                         company experience  \\\n",
       "0  TOTAL MARKETING SUPPORT INDIA PRIVATE LIMITED     03 May   \n",
       "1        NIRVANA SOLUTIONS INDIA PRIVATE LIMITED    0-5 Yrs   \n",
       "2                                         Rupeek    2-7 Yrs   \n",
       "3                                 Pramerica Life    4-6 Yrs   \n",
       "4                     KOZENT TEC PRIVATE LIMITED    2-6 Yrs   \n",
       "5                     West Wind Retail Pvt. Ltd.    3-6 Yrs   \n",
       "6                               AMERICAN EXPRESS    1-6 Yrs   \n",
       "7                                Info Edge India    1-3 Yrs   \n",
       "8                                    Also Energy    3-6 Yrs   \n",
       "9                        Redian Software Pvt Ltd    3-5 Yrs   \n",
       "\n",
       "                         location  \n",
       "0                Gurgaon/Gurugram  \n",
       "1                Gurgaon/Gurugram  \n",
       "2  New Delhi, Bangalore/Bengaluru  \n",
       "3                Gurgaon/Gurugram  \n",
       "4                           Noida  \n",
       "5   Gurgaon/Gurugram, Delhi / NCR  \n",
       "6   Gurgaon/Gurugram, Delhi / NCR  \n",
       "7                           Noida  \n",
       "8                Gurgaon/Gurugram  \n",
       "9                Gurgaon/Gurugram  "
      ]
     },
     "execution_count": 300,
     "metadata": {},
     "output_type": "execute_result"
    }
   ],
   "source": [
    "job.head(10)"
   ]
  },
  {
   "cell_type": "markdown",
   "id": "464101ed",
   "metadata": {},
   "source": [
    "Q4: Scrape data of first 100 sunglasses listings on flipkart.com. You have to scrape four attributes:\n",
    "1. Brand\n",
    "2. Product Description\n",
    "3. Price\n"
   ]
  },
  {
   "cell_type": "code",
   "execution_count": 22,
   "id": "f38131fb",
   "metadata": {},
   "outputs": [],
   "source": [
    "driver= webdriver.Chrome(r\"C:\\Users\\hp\\Downloads\\chromedriver_win32\\chromedriver.exe\")"
   ]
  },
  {
   "cell_type": "code",
   "execution_count": 23,
   "id": "95a25fcb",
   "metadata": {},
   "outputs": [],
   "source": [
    "driver.get(\"https://www.flipkart.com/\")"
   ]
  },
  {
   "cell_type": "code",
   "execution_count": 24,
   "id": "14e55146",
   "metadata": {},
   "outputs": [],
   "source": [
    "driver.find_element_by_xpath(\"//input[@title='Search for products, brands and more']\").send_keys(\"sunglasses\")"
   ]
  },
  {
   "cell_type": "code",
   "execution_count": 27,
   "id": "b80e9bec",
   "metadata": {},
   "outputs": [],
   "source": [
    "driver.find_element_by_xpath(\"//button[@type='submit']\").click()"
   ]
  }
 ],
 "metadata": {
  "kernelspec": {
   "display_name": "Python 3 (ipykernel)",
   "language": "python",
   "name": "python3"
  },
  "language_info": {
   "codemirror_mode": {
    "name": "ipython",
    "version": 3
   },
   "file_extension": ".py",
   "mimetype": "text/x-python",
   "name": "python",
   "nbconvert_exporter": "python",
   "pygments_lexer": "ipython3",
   "version": "3.9.7"
  }
 },
 "nbformat": 4,
 "nbformat_minor": 5
}
